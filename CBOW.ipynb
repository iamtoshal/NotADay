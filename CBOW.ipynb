{
 "cells": [
  {
   "cell_type": "code",
   "execution_count": 45,
   "metadata": {},
   "outputs": [],
   "source": [
    "file = open(r\"C:\\Users\\avish\\OneDrive\\Desktop\\sentence.txt.txt\")\n",
    "document=file.read()\n",
    "file.close()"
   ]
  },
  {
   "cell_type": "code",
   "execution_count": 55,
   "metadata": {},
   "outputs": [
    {
     "data": {
      "text/plain": [
       "'API stands for application programmable interface ,APIs are used as an interface between frontend and backend . API fetches data from databases and loads it into the frontend . API is used as medium of communication between Stwom systems'"
      ]
     },
     "execution_count": 55,
     "metadata": {},
     "output_type": "execute_result"
    }
   ],
   "source": [
    "document"
   ]
  },
  {
   "cell_type": "code",
   "execution_count": 56,
   "metadata": {},
   "outputs": [
    {
     "data": {
      "text/plain": [
       "['API stands for application programmable interface ,APIs are used as an interface between frontend and backend ',\n",
       " ' API fetches data from databases and loads it into the frontend ',\n",
       " ' API is used as medium of communication between Stwom systems']"
      ]
     },
     "execution_count": 56,
     "metadata": {},
     "output_type": "execute_result"
    }
   ],
   "source": [
    "sentences = document.split(\".\")\n",
    "sentences"
   ]
  },
  {
   "cell_type": "code",
   "execution_count": 57,
   "metadata": {},
   "outputs": [],
   "source": [
    "clean_sent=[]\n",
    "for sentence in sentences:\n",
    "    sentence=re.sub(r\"^A-Za-z0-9\",\" \",sentence.lower())\n",
    "    #sentence=re.sub(r\"(!?|:^)\\w (?:$|)\",\" \",sentence.lower()).strip\n",
    "    clean_sent.append(sentence)"
   ]
  },
  {
   "cell_type": "code",
   "execution_count": 58,
   "metadata": {},
   "outputs": [
    {
     "data": {
      "text/plain": [
       "['api stands for application programmable interface ,apis are used as an interface between frontend and backend ',\n",
       " ' api fetches data from databases and loads it into the frontend ',\n",
       " ' api is used as medium of communication between stwom systems']"
      ]
     },
     "execution_count": 58,
     "metadata": {},
     "output_type": "execute_result"
    }
   ],
   "source": [
    "clean_sent"
   ]
  },
  {
   "cell_type": "code",
   "execution_count": 62,
   "metadata": {},
   "outputs": [
    {
     "name": "stdout",
     "output_type": "stream",
     "text": [
      "[[1, 8, 9, 10, 11, 2, 12, 13, 3, 4, 14, 2, 5, 6, 7, 15], [1, 16, 17, 18, 19, 7, 20, 21, 22, 23, 6], [1, 24, 3, 4, 25, 26, 27, 5, 28, 29]]\n"
     ]
    }
   ],
   "source": [
    "from tensorflow.keras.preprocessing.text import Tokenizer\n",
    "tokenizer =Tokenizer()\n",
    "tokenizer.fit_on_texts(clean_sent)\n",
    "sequence = tokenizer.texts_to_sequences(clean_sent)\n",
    "print(sequence)\n"
   ]
  },
  {
   "cell_type": "code",
   "execution_count": 66,
   "metadata": {},
   "outputs": [
    {
     "data": {
      "text/plain": [
       "{1: 'api',\n",
       " 8: 'stands',\n",
       " 9: 'for',\n",
       " 10: 'application',\n",
       " 11: 'programmable',\n",
       " 2: 'interface',\n",
       " 12: ',apis',\n",
       " 13: 'are',\n",
       " 3: 'used',\n",
       " 4: 'as',\n",
       " 14: 'an',\n",
       " 5: 'between',\n",
       " 6: 'frontend',\n",
       " 7: 'and',\n",
       " 15: 'backend',\n",
       " 16: 'fetches',\n",
       " 17: 'data',\n",
       " 18: 'from',\n",
       " 19: 'databases',\n",
       " 20: 'loads',\n",
       " 21: 'it',\n",
       " 22: 'into',\n",
       " 23: 'the',\n",
       " 24: 'is',\n",
       " 25: 'medium',\n",
       " 26: 'of',\n",
       " 27: 'communication',\n",
       " 28: 'stwom',\n",
       " 29: 'systems'}"
      ]
     },
     "execution_count": 66,
     "metadata": {},
     "output_type": "execute_result"
    }
   ],
   "source": [
    "ix_to_word ={}\n",
    "word_to_ix={}\n",
    "\n",
    "for i,seq in enumerate(sequence):\n",
    "    \n",
    "    words_in_sentence = clean_sent[i].split()\n",
    "    \n",
    "    for j,value in enumerate(seq):\n",
    "        ix_to_word[value]=words_in_sentence[j]\n",
    "        word_to_ix[words_in_sentence[j]]=value\n",
    "    \n",
    "    \n",
    "ix_to_word\n",
    "    \n",
    "    "
   ]
  },
  {
   "cell_type": "code",
   "execution_count": 81,
   "metadata": {},
   "outputs": [],
   "source": [
    "vocab_size = len(tokenizer.word_index) + 1\n",
    "emb_size = 10\n",
    "context_size=2\n",
    "\n",
    "contexts = []\n",
    "targets = []\n",
    "\n",
    "for seq in sequence:\n",
    "    for i in range(context_size,len(seq) - context_size):\n",
    "        target=seq[i]\n",
    "        context= [seq[i- 2],seq[i-1],seq[i+1],seq[i+2]]\n",
    "        contexts.append(context)\n",
    "        targets.append(target)\n",
    "        \n"
   ]
  },
  {
   "cell_type": "code",
   "execution_count": 82,
   "metadata": {},
   "outputs": [
    {
     "data": {
      "text/plain": [
       "25"
      ]
     },
     "execution_count": 82,
     "metadata": {},
     "output_type": "execute_result"
    }
   ],
   "source": [
    "len(targets)\n",
    "len(contexts)"
   ]
  },
  {
   "cell_type": "code",
   "execution_count": 83,
   "metadata": {},
   "outputs": [
    {
     "name": "stdout",
     "output_type": "stream",
     "text": [
      "['api', 'stands', 'application', 'programmable'] ---> for\n",
      "['stands', 'for', 'programmable', 'interface'] ---> application\n",
      "['for', 'application', 'interface', ',apis'] ---> programmable\n",
      "['application', 'programmable', ',apis', 'are'] ---> interface\n",
      "['programmable', 'interface', 'are', 'used'] ---> ,apis\n"
     ]
    }
   ],
   "source": [
    "for i in range(5):\n",
    "    words=[]\n",
    "    target=ix_to_word[targets[i]]\n",
    "    \n",
    "    for j in contexts[i]:\n",
    "        words.append(ix_to_word[j])\n",
    "        \n",
    "    print(words , \"--->\",target)\n",
    "        \n",
    "        "
   ]
  },
  {
   "cell_type": "code",
   "execution_count": 84,
   "metadata": {},
   "outputs": [],
   "source": [
    "X=np.array(contexts)\n",
    "Y=np.array(targets)"
   ]
  },
  {
   "cell_type": "code",
   "execution_count": 89,
   "metadata": {},
   "outputs": [],
   "source": [
    "import tensorflow as tf\n",
    "from tensorflow.keras.models import Sequential\n",
    "from tensorflow.keras.layers import Lambda,Embedding,Dense\n",
    "\n",
    "model=Sequential([\n",
    "    Embedding(input_dim=vocab_size, output_dim=emb_size,input_length=2*context_size),\n",
    "    Lambda(lambda x:tf.reduce_mean(x,axis=1)),\n",
    "    Dense(256,activation=\"relu\"),\n",
    "    Dense(512,activation=\"relu\"),\n",
    "    Dense(vocab_size,activation=\"softmax\")\n",
    "])"
   ]
  },
  {
   "cell_type": "code",
   "execution_count": 91,
   "metadata": {},
   "outputs": [
    {
     "name": "stdout",
     "output_type": "stream",
     "text": [
      "Epoch 1/80\n",
      "1/1 [==============================] - 1s 639ms/step - loss: 3.4008 - accuracy: 0.0000e+00\n",
      "Epoch 2/80\n",
      "1/1 [==============================] - 0s 0s/step - loss: 3.3948 - accuracy: 0.2000\n",
      "Epoch 3/80\n",
      "1/1 [==============================] - 0s 5ms/step - loss: 3.3891 - accuracy: 0.1600\n",
      "Epoch 4/80\n",
      "1/1 [==============================] - 0s 16ms/step - loss: 3.3831 - accuracy: 0.1200\n",
      "Epoch 5/80\n",
      "1/1 [==============================] - 0s 11ms/step - loss: 3.3763 - accuracy: 0.1200\n",
      "Epoch 6/80\n",
      "1/1 [==============================] - 0s 0s/step - loss: 3.3684 - accuracy: 0.1200\n",
      "Epoch 7/80\n",
      "1/1 [==============================] - 0s 3ms/step - loss: 3.3594 - accuracy: 0.1200\n",
      "Epoch 8/80\n",
      "1/1 [==============================] - 0s 17ms/step - loss: 3.3490 - accuracy: 0.1200\n",
      "Epoch 9/80\n",
      "1/1 [==============================] - 0s 15ms/step - loss: 3.3372 - accuracy: 0.1200\n",
      "Epoch 10/80\n",
      "1/1 [==============================] - 0s 0s/step - loss: 3.3237 - accuracy: 0.1200\n",
      "Epoch 11/80\n",
      "1/1 [==============================] - 0s 4ms/step - loss: 3.3084 - accuracy: 0.1200\n",
      "Epoch 12/80\n",
      "1/1 [==============================] - 0s 5ms/step - loss: 3.2912 - accuracy: 0.1200\n",
      "Epoch 13/80\n",
      "1/1 [==============================] - 0s 15ms/step - loss: 3.2719 - accuracy: 0.1200\n",
      "Epoch 14/80\n",
      "1/1 [==============================] - 0s 16ms/step - loss: 3.2503 - accuracy: 0.1200\n",
      "Epoch 15/80\n",
      "1/1 [==============================] - 0s 14ms/step - loss: 3.2265 - accuracy: 0.1200\n",
      "Epoch 16/80\n",
      "1/1 [==============================] - 0s 0s/step - loss: 3.2002 - accuracy: 0.1200\n",
      "Epoch 17/80\n",
      "1/1 [==============================] - 0s 3ms/step - loss: 3.1715 - accuracy: 0.1200\n",
      "Epoch 18/80\n",
      "1/1 [==============================] - 0s 18ms/step - loss: 3.1405 - accuracy: 0.1200\n",
      "Epoch 19/80\n",
      "1/1 [==============================] - 0s 13ms/step - loss: 3.1071 - accuracy: 0.1200\n",
      "Epoch 20/80\n",
      "1/1 [==============================] - 0s 22ms/step - loss: 3.0718 - accuracy: 0.1200\n",
      "Epoch 21/80\n",
      "1/1 [==============================] - 0s 10ms/step - loss: 3.0348 - accuracy: 0.1200\n",
      "Epoch 22/80\n",
      "1/1 [==============================] - 0s 6ms/step - loss: 2.9966 - accuracy: 0.1200\n",
      "Epoch 23/80\n",
      "1/1 [==============================] - 0s 15ms/step - loss: 2.9576 - accuracy: 0.1200\n",
      "Epoch 24/80\n",
      "1/1 [==============================] - 0s 10ms/step - loss: 2.9185 - accuracy: 0.1200\n",
      "Epoch 25/80\n",
      "1/1 [==============================] - 0s 0s/step - loss: 2.8797 - accuracy: 0.1200\n",
      "Epoch 26/80\n",
      "1/1 [==============================] - 0s 15ms/step - loss: 2.8416 - accuracy: 0.1200\n",
      "Epoch 27/80\n",
      "1/1 [==============================] - 0s 8ms/step - loss: 2.8041 - accuracy: 0.1200\n",
      "Epoch 28/80\n",
      "1/1 [==============================] - 0s 7ms/step - loss: 2.7670 - accuracy: 0.1200\n",
      "Epoch 29/80\n",
      "1/1 [==============================] - 0s 14ms/step - loss: 2.7295 - accuracy: 0.1200\n",
      "Epoch 30/80\n",
      "1/1 [==============================] - 0s 14ms/step - loss: 2.6908 - accuracy: 0.1200\n",
      "Epoch 31/80\n",
      "1/1 [==============================] - 0s 11ms/step - loss: 2.6503 - accuracy: 0.1200\n",
      "Epoch 32/80\n",
      "1/1 [==============================] - 0s 0s/step - loss: 2.6080 - accuracy: 0.1200\n",
      "Epoch 33/80\n",
      "1/1 [==============================] - 0s 2ms/step - loss: 2.5643 - accuracy: 0.1200\n",
      "Epoch 34/80\n",
      "1/1 [==============================] - 0s 6ms/step - loss: 2.5200 - accuracy: 0.1600\n",
      "Epoch 35/80\n",
      "1/1 [==============================] - 0s 15ms/step - loss: 2.4760 - accuracy: 0.2000\n",
      "Epoch 36/80\n",
      "1/1 [==============================] - 0s 10ms/step - loss: 2.4328 - accuracy: 0.2000\n",
      "Epoch 37/80\n",
      "1/1 [==============================] - 0s 12ms/step - loss: 2.3910 - accuracy: 0.2000\n",
      "Epoch 38/80\n",
      "1/1 [==============================] - 0s 10ms/step - loss: 2.3506 - accuracy: 0.2400\n",
      "Epoch 39/80\n",
      "1/1 [==============================] - 0s 2ms/step - loss: 2.3113 - accuracy: 0.3200\n",
      "Epoch 40/80\n",
      "1/1 [==============================] - 0s 5ms/step - loss: 2.2725 - accuracy: 0.3200\n",
      "Epoch 41/80\n",
      "1/1 [==============================] - 0s 6ms/step - loss: 2.2339 - accuracy: 0.3600\n",
      "Epoch 42/80\n",
      "1/1 [==============================] - 0s 7ms/step - loss: 2.1951 - accuracy: 0.4400\n",
      "Epoch 43/80\n",
      "1/1 [==============================] - 0s 7ms/step - loss: 2.1560 - accuracy: 0.4400\n",
      "Epoch 44/80\n",
      "1/1 [==============================] - 0s 8ms/step - loss: 2.1170 - accuracy: 0.4800\n",
      "Epoch 45/80\n",
      "1/1 [==============================] - 0s 8ms/step - loss: 2.0783 - accuracy: 0.4800\n",
      "Epoch 46/80\n",
      "1/1 [==============================] - 0s 15ms/step - loss: 2.0399 - accuracy: 0.4800\n",
      "Epoch 47/80\n",
      "1/1 [==============================] - 0s 6ms/step - loss: 2.0016 - accuracy: 0.6000\n",
      "Epoch 48/80\n",
      "1/1 [==============================] - 0s 7ms/step - loss: 1.9630 - accuracy: 0.6000\n",
      "Epoch 49/80\n",
      "1/1 [==============================] - 0s 12ms/step - loss: 1.9238 - accuracy: 0.5600\n",
      "Epoch 50/80\n",
      "1/1 [==============================] - 0s 14ms/step - loss: 1.8838 - accuracy: 0.5600\n",
      "Epoch 51/80\n",
      "1/1 [==============================] - 0s 11ms/step - loss: 1.8431 - accuracy: 0.5600\n",
      "Epoch 52/80\n",
      "1/1 [==============================] - 0s 3ms/step - loss: 1.8019 - accuracy: 0.6400\n",
      "Epoch 53/80\n",
      "1/1 [==============================] - 0s 11ms/step - loss: 1.7602 - accuracy: 0.6400\n",
      "Epoch 54/80\n",
      "1/1 [==============================] - 0s 6ms/step - loss: 1.7180 - accuracy: 0.6400\n",
      "Epoch 55/80\n",
      "1/1 [==============================] - 0s 6ms/step - loss: 1.6751 - accuracy: 0.6400\n",
      "Epoch 56/80\n",
      "1/1 [==============================] - 0s 0s/step - loss: 1.6316 - accuracy: 0.6800\n",
      "Epoch 57/80\n",
      "1/1 [==============================] - 0s 6ms/step - loss: 1.5876 - accuracy: 0.7200\n",
      "Epoch 58/80\n",
      "1/1 [==============================] - 0s 4ms/step - loss: 1.5431 - accuracy: 0.7200\n",
      "Epoch 59/80\n",
      "1/1 [==============================] - 0s 3ms/step - loss: 1.4980 - accuracy: 0.7600\n",
      "Epoch 60/80\n",
      "1/1 [==============================] - 0s 21ms/step - loss: 1.4525 - accuracy: 0.7600\n",
      "Epoch 61/80\n",
      "1/1 [==============================] - 0s 6ms/step - loss: 1.4065 - accuracy: 0.7600\n",
      "Epoch 62/80\n",
      "1/1 [==============================] - 0s 6ms/step - loss: 1.3601 - accuracy: 0.8000\n",
      "Epoch 63/80\n",
      "1/1 [==============================] - 0s 5ms/step - loss: 1.3134 - accuracy: 0.8000\n",
      "Epoch 64/80\n",
      "1/1 [==============================] - 0s 0s/step - loss: 1.2668 - accuracy: 0.8000\n",
      "Epoch 65/80\n",
      "1/1 [==============================] - 0s 16ms/step - loss: 1.2199 - accuracy: 0.8000\n",
      "Epoch 66/80\n",
      "1/1 [==============================] - 0s 0s/step - loss: 1.1730 - accuracy: 0.8400\n",
      "Epoch 67/80\n",
      "1/1 [==============================] - 0s 0s/step - loss: 1.1262 - accuracy: 0.8400\n",
      "Epoch 68/80\n",
      "1/1 [==============================] - 0s 17ms/step - loss: 1.0797 - accuracy: 0.8400\n",
      "Epoch 69/80\n",
      "1/1 [==============================] - 0s 16ms/step - loss: 1.0333 - accuracy: 0.8400\n",
      "Epoch 70/80\n",
      "1/1 [==============================] - 0s 11ms/step - loss: 0.9875 - accuracy: 0.8800\n",
      "Epoch 71/80\n",
      "1/1 [==============================] - 0s 21ms/step - loss: 0.9422 - accuracy: 0.9200\n",
      "Epoch 72/80\n",
      "1/1 [==============================] - 0s 12ms/step - loss: 0.8976 - accuracy: 0.9600\n",
      "Epoch 73/80\n",
      "1/1 [==============================] - 0s 0s/step - loss: 0.8538 - accuracy: 0.9600\n",
      "Epoch 74/80\n",
      "1/1 [==============================] - 0s 0s/step - loss: 0.8109 - accuracy: 0.9600\n",
      "Epoch 75/80\n",
      "1/1 [==============================] - 0s 26ms/step - loss: 0.7688 - accuracy: 0.9600\n",
      "Epoch 76/80\n",
      "1/1 [==============================] - 0s 11ms/step - loss: 0.7277 - accuracy: 0.9600\n",
      "Epoch 77/80\n",
      "1/1 [==============================] - 0s 0s/step - loss: 0.6877 - accuracy: 0.9600\n",
      "Epoch 78/80\n",
      "1/1 [==============================] - 0s 4ms/step - loss: 0.6491 - accuracy: 0.9600\n",
      "Epoch 79/80\n",
      "1/1 [==============================] - 0s 5ms/step - loss: 0.6117 - accuracy: 0.9600\n",
      "Epoch 80/80\n",
      "1/1 [==============================] - 0s 16ms/step - loss: 0.5755 - accuracy: 1.0000\n"
     ]
    }
   ],
   "source": [
    "model.compile(loss='sparse_categorical_crossentropy', optimizer='adam', metrics=['accuracy'])\n",
    "history = model.fit(X, Y, epochs=80)"
   ]
  },
  {
   "cell_type": "code",
   "execution_count": 101,
   "metadata": {},
   "outputs": [],
   "source": [
    "test_sentences = [\"api stands application programmable\",\n",
    "                   \"api are as an\",\n",
    "                  \"api fetches from databases\"\n",
    "                  \n",
    "                  ]"
   ]
  },
  {
   "cell_type": "code",
   "execution_count": 102,
   "metadata": {},
   "outputs": [
    {
     "name": "stdout",
     "output_type": "stream",
     "text": [
      "1/1 [==============================] - 0s 21ms/step\n",
      "pred  ['api', 'stands', 'application', 'programmable'] \n",
      "= for \n",
      "\n",
      "\n",
      "1/1 [==============================] - 0s 19ms/step\n",
      "pred  ['api', 'are', 'as', 'an'] \n",
      "= used \n",
      "\n",
      "\n",
      "1/1 [==============================] - 0s 20ms/step\n",
      "pred  ['api', 'fetches', 'from', 'databases'] \n",
      "= data \n",
      "\n",
      "\n"
     ]
    }
   ],
   "source": [
    "for sent in test_sentences:\n",
    "    test_words = sent.split(\" \")\n",
    "#     print(test_words)\n",
    "    x_test =[]\n",
    "    for i in test_words:\n",
    "        x_test.append(word_to_ix.get(i))\n",
    "    x_test = np.array([x_test])\n",
    "#     print(x_test)\n",
    "    \n",
    "    pred = model.predict(x_test)\n",
    "    pred = np.argmax(pred[0])\n",
    "    print(\"pred \", test_words, \"\\n=\", ix_to_word.get(pred),\"\\n\\n\")"
   ]
  },
  {
   "cell_type": "code",
   "execution_count": null,
   "metadata": {},
   "outputs": [],
   "source": []
  }
 ],
 "metadata": {
  "kernelspec": {
   "display_name": "Python 3",
   "language": "python",
   "name": "python3"
  },
  "language_info": {
   "codemirror_mode": {
    "name": "ipython",
    "version": 3
   },
   "file_extension": ".py",
   "mimetype": "text/x-python",
   "name": "python",
   "nbconvert_exporter": "python",
   "pygments_lexer": "ipython3",
   "version": "3.8.5"
  }
 },
 "nbformat": 4,
 "nbformat_minor": 4
}
